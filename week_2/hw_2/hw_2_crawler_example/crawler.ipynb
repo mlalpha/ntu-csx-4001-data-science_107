{
 "cells": [
  {
   "cell_type": "code",
   "execution_count": 1,
   "metadata": {},
   "outputs": [
    {
     "name": "stderr",
     "output_type": "stream",
     "text": [
      "\n",
      "Attaching package: ‘dplyr’\n",
      "\n",
      "The following objects are masked from ‘package:stats’:\n",
      "\n",
      "    filter, lag\n",
      "\n",
      "The following objects are masked from ‘package:base’:\n",
      "\n",
      "    intersect, setdiff, setequal, union\n",
      "\n"
     ]
    }
   ],
   "source": [
    "Sys.setenv(LANG = \"en\")\n",
    "#Load the library:\n",
    "library(httr)\n",
    "library(knitr)\n",
    "library(tidyr)\n",
    "library(dplyr)\n",
    "knitr::opts_chunk$set(echo = TRUE)"
   ]
  },
  {
   "cell_type": "code",
   "execution_count": 2,
   "metadata": {},
   "outputs": [],
   "source": [
    "url <- \"http://ecshweb.pchome.com.tw/search/v3.3/all/results?q=sony&page=1&sort=rnk/dc\"\n",
    "res <- GET(url)\n",
    "res_json <- content(res)"
   ]
  },
  {
   "cell_type": "code",
   "execution_count": 3,
   "metadata": {},
   "outputs": [],
   "source": [
    "raw = (data.frame(do.call(rbind,res_json$prods)))"
   ]
  },
  {
   "cell_type": "code",
   "execution_count": 4,
   "metadata": {},
   "outputs": [],
   "source": [
    "drops <- c(\"describe\")\n",
    "df <- raw[ , !(names(raw) %in% drops)]\n",
    "# for(i in names(df)){\n",
    "#     print(df[i])\n",
    "# }"
   ]
  },
  {
   "cell_type": "code",
   "execution_count": 8,
   "metadata": {},
   "outputs": [
    {
     "ename": "ERROR",
     "evalue": "Error in FUN(X[[i]], ...): arguments imply differing number of rows: 1, 0\n",
     "output_type": "error",
     "traceback": [
      "Error in FUN(X[[i]], ...): arguments imply differing number of rows: 1, 0\nTraceback:\n",
      "1. lapply(df, data.frame, as.character())",
      "2. FUN(X[[i]], ...)",
      "3. stop(gettextf(\"arguments imply differing number of rows: %s\", \n .     paste(unique(nrows), collapse = \", \")), domain = NA)"
     ]
    }
   ],
   "source": [
    "df = lapply(df, data.frame, )\n",
    "df = rbind_all(df)"
   ]
  },
  {
   "cell_type": "code",
   "execution_count": null,
   "metadata": {},
   "outputs": [],
   "source": [
    "write.csv(df, file = \"MyData.csv\")"
   ]
  }
 ],
 "metadata": {
  "kernelspec": {
   "display_name": "R",
   "language": "R",
   "name": "ir"
  },
  "language_info": {
   "codemirror_mode": "r",
   "file_extension": ".r",
   "mimetype": "text/x-r-source",
   "name": "R",
   "pygments_lexer": "r",
   "version": "3.5.0"
  }
 },
 "nbformat": 4,
 "nbformat_minor": 2
}
