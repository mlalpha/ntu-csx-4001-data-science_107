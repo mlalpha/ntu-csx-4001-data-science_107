{
 "cells": [
  {
   "cell_type": "code",
   "execution_count": 1,
   "metadata": {},
   "outputs": [],
   "source": [
    "from pprint import pprint\n",
    "import networkx as nx\n",
    "import json\n",
    "import matplotlib.pyplot as plt\n",
    "import pandas as pd\n",
    "from datetime import datetime\n",
    "import numpy as np"
   ]
  },
  {
   "cell_type": "markdown",
   "metadata": {},
   "source": [
    "# Read Data"
   ]
  },
  {
   "cell_type": "code",
   "execution_count": 2,
   "metadata": {},
   "outputs": [],
   "source": [
    "try:\n",
    "    with open('query/IMDb_data/IMDb2006-2015.json') as data_file:\n",
    "        data = json.load(data_file)\n",
    "except:\n",
    "    print(\"No such file or directory: 'IMDb_data\\\\IMDb2006-2015.json'\")\n",
    "    exit()\n",
    "\n",
    "\n",
    "def getData():\n",
    "    return data\n",
    "\n",
    "movies = getData()\n",
    "\n",
    "movie = movies['tt0117743']"
   ]
  },
  {
   "cell_type": "code",
   "execution_count": 3,
   "metadata": {},
   "outputs": [],
   "source": [
    "movies_list = list(movies.values())\n",
    "movies = movies.copy()"
   ]
  },
  {
   "cell_type": "code",
   "execution_count": 4,
   "metadata": {
    "scrolled": true
   },
   "outputs": [
    {
     "data": {
      "text/plain": [
       "['Plot',\n",
       " 'Rated',\n",
       " 'Response',\n",
       " 'Language',\n",
       " 'Title',\n",
       " 'Country',\n",
       " 'Writer',\n",
       " 'Metascore',\n",
       " 'imdbRating',\n",
       " 'Director',\n",
       " 'Released',\n",
       " 'Actors',\n",
       " 'Year',\n",
       " 'Genre',\n",
       " 'Awards',\n",
       " 'Runtime',\n",
       " 'Type',\n",
       " 'Poster',\n",
       " 'imdbVotes',\n",
       " 'imdbID']"
      ]
     },
     "execution_count": 4,
     "metadata": {},
     "output_type": "execute_result"
    }
   ],
   "source": [
    "list(movies_list[0].keys())"
   ]
  },
  {
   "cell_type": "code",
   "execution_count": 5,
   "metadata": {},
   "outputs": [
    {
     "data": {
      "text/plain": [
       "{'Plot': 'Upon losing his wife and son, Ahmet has to struggle with the feeling of loneliness.',\n",
       " 'Rated': 'N/A',\n",
       " 'Response': 'True',\n",
       " 'Language': 'Turkish',\n",
       " 'Title': 'Bulanti',\n",
       " 'Country': 'Turkey',\n",
       " 'Writer': 'Zeki Demirkubuz',\n",
       " 'Metascore': 'N/A',\n",
       " 'imdbRating': '6.4',\n",
       " 'Director': 'Zeki Demirkubuz',\n",
       " 'Released': '02 Oct 2015',\n",
       " 'Actors': 'Zeki Demirkubuz, Sebnem Hassanisoughi, Öykü Karayel, Çaglar Çorumlu',\n",
       " 'Year': '2015',\n",
       " 'Genre': 'Drama',\n",
       " 'Awards': '2 wins.',\n",
       " 'Runtime': 'N/A',\n",
       " 'Type': 'movie',\n",
       " 'Poster': 'http://ia.media-imdb.com/images/M/MV5BZDg0NjQwNzctNWE4OC00NjAxLTkwNzMtNzdjNDFlZTRhM2Q3XkEyXkFqcGdeQXVyMTYzMDkwNjg@._V1_SX300.jpg',\n",
       " 'imdbVotes': '554',\n",
       " 'imdbID': 'tt5037996'}"
      ]
     },
     "execution_count": 5,
     "metadata": {},
     "output_type": "execute_result"
    }
   ],
   "source": [
    "movies_list[51256]"
   ]
  },
  {
   "cell_type": "markdown",
   "metadata": {},
   "source": [
    "# Data Processing & Cleaning"
   ]
  },
  {
   "cell_type": "code",
   "execution_count": 6,
   "metadata": {
    "scrolled": true
   },
   "outputs": [],
   "source": [
    "for movie in movies_list:\n",
    "    if movie['Year'].isdecimal() == False or int(movie['Year']) < 2006 or int(movie['Year']) > 2015:\n",
    "        movies_list.remove(movie)\n",
    "    else:\n",
    "        movie['Released'] = datetime.strptime(movie['Released'], '%d %b %Y') if movie['Released'] != 'N/A' and type(movie['Released'])!='str' else None\n",
    "        movie['imdbRating'] = float(movie['imdbRating']) if movie['imdbRating'] != 'N/A' else None\n",
    "    "
   ]
  },
  {
   "cell_type": "code",
   "execution_count": 7,
   "metadata": {},
   "outputs": [],
   "source": [
    "df = pd.DataFrame(movies_list)"
   ]
  },
  {
   "cell_type": "markdown",
   "metadata": {},
   "source": [
    "# Data Visualization"
   ]
  },
  {
   "cell_type": "code",
   "execution_count": 8,
   "metadata": {},
   "outputs": [
    {
     "name": "stdout",
     "output_type": "stream",
     "text": [
      "2015    9396\n",
      "2014    9160\n",
      "2013    8645\n",
      "2012    8154\n",
      "2011    7773\n",
      "2010    7068\n",
      "2009    6830\n",
      "2008    5831\n",
      "2007    5134\n",
      "2006    4894\n",
      "2016       1\n",
      "Name: Year, dtype: int64\n"
     ]
    },
    {
     "data": {
      "text/plain": [
       "<matplotlib.axes._subplots.AxesSubplot at 0x1319536a0>"
      ]
     },
     "execution_count": 8,
     "metadata": {},
     "output_type": "execute_result"
    },
    {
     "data": {
      "image/png": "[encoded data removed]",
      "text/plain": [
       "<Figure size 432x288 with 1 Axes>"
      ]
     },
     "metadata": {},
     "output_type": "display_data"
    }
   ],
   "source": [
    "year_count = df['Year'].value_counts()\n",
    "print(year_count)\n",
    "year_count.plot('bar')"
   ]
  },
  {
   "cell_type": "code",
   "execution_count": 9,
   "metadata": {},
   "outputs": [
    {
     "name": "stdout",
     "output_type": "stream",
     "text": [
      "Drama                     17253\n",
      "Comedy                     7703\n",
      "N/A                        4061\n",
      "Horror                     3020\n",
      "Comedy, Drama              2862\n",
      "Thriller                   2047\n",
      "Drama, Romance             1694\n",
      "Action                     1491\n",
      "Comedy, Drama, Romance     1382\n",
      "Comedy, Romance            1316\n",
      "Romance                    1053\n",
      "Drama, Thriller            1022\n",
      "Horror, Thriller            988\n",
      "Family                      689\n",
      "Comedy, Horror              577\n",
      "Crime, Drama, Thriller      572\n",
      "Music                       568\n",
      "Action, Crime, Drama        564\n",
      "Drama, Family               563\n",
      "Animation                   539\n",
      "Name: Genre, dtype: int64\n"
     ]
    },
    {
     "data": {
      "text/plain": [
       "<matplotlib.axes._subplots.AxesSubplot at 0x1244cd748>"
      ]
     },
     "execution_count": 9,
     "metadata": {},
     "output_type": "execute_result"
    },
    {
     "data": {
      "image/png": "[encoded data removed]",
      "text/plain": [
       "<Figure size 432x288 with 1 Axes>"
      ]
     },
     "metadata": {},
     "output_type": "display_data"
    }
   ],
   "source": [
    "genre_count = df['Genre'].value_counts().nlargest(20)\n",
    "print(genre_count)\n",
    "genre_count.plot('bar')"
   ]
  },
  {
   "attachments": {},
   "cell_type": "markdown",
   "metadata": {},
   "source": [
    "# Top 30 Voted:"
   ]
  },
  {
   "cell_type": "code",
   "execution_count": 10,
   "metadata": {},
   "outputs": [
    {
     "name": "stdout",
     "output_type": "stream",
     "text": [
      "1\tWhat the Flowers Have Brought Us\t rating:10.0\n",
      "1\tSomeone to Carry Me\t rating:10.0\n",
      "1\tOrange Grove\t rating:10.0\n",
      "1\tFor the Cause\t rating:10.0\n",
      "1\tPorkchop and a Glass of Water\t rating:10.0\n",
      "1\tGumboot Kids\t rating:10.0\n",
      "1\tDancing Alone\t rating:10.0\n",
      "1\tHindsight 2020\t rating:10.0\n",
      "1\tAchena Prem\t rating:10.0\n",
      "1\tBhalobasar Anek Naam\t rating:10.0\n",
      "1\tBangland\t rating:10.0\n",
      "2\tJan Quadrant Vincent 16\t rating:9.8\n",
      "2\tThe Stones of Okella\t rating:9.8\n",
      "2\tYeardley\t rating:9.8\n",
      "2\tMillie and the Lords\t rating:9.8\n",
      "3\tA Father's Journey\t rating:9.7\n",
      "3\tBeatbox\t rating:9.7\n",
      "3\tHomecoming\t rating:9.7\n",
      "3\tCanadian Dream\t rating:9.7\n",
      "3\tUnspeakable Indiscretions\t rating:9.7\n",
      "3\tHing Ting Chot\t rating:9.7\n",
      "3\tBrush\t rating:9.7\n",
      "4\tQlub Imwegggha\t rating:9.6\n",
      "4\tInbrottet\t rating:9.6\n",
      "4\tSummertime\t rating:9.6\n",
      "4\tMiles Away\t rating:9.6\n",
      "4\tThe Industry\t rating:9.6\n",
      "4\tYume no mani mani\t rating:9.6\n",
      "4\tPatna Se Pakistan\t rating:9.6\n",
      "4\tJazzed Up Hoodlums\t rating:9.6\n",
      "4\tEating Saltines\t rating:9.6\n",
      "4\tProfile\t rating:9.6\n",
      "4\tFrom Grace\t rating:9.6\n",
      "-------------separate-------------\n",
      "1\tThe Dark Knight\t voters:1,713,318\n",
      "2\tInception\t voters:1,501,172\n",
      "3\tThe Dark Knight Rises\t voters:1,171,737\n",
      "4\tThe Avengers\t voters:1,016,311\n",
      "5\tDjango Unchained\t voters:982,827\n",
      "6\tInterstellar\t voters:961,788\n",
      "7\tInglourious Basterds\t voters:909,244\n",
      "8\tAvatar\t voters:899,776\n",
      "9\tThe Departed\t voters:894,160\n",
      "10\tThe Prestige\t voters:860,347\n",
      "11\tShutter Island\t voters:805,512\n",
      "12\tThe Wolf of Wall Street\t voters:804,969\n",
      "13\tWALL·E\t voters:735,150\n",
      "14\tThe Hunger Games\t voters:712,375\n",
      "15\tGuardians of the Galaxy\t voters:708,900\n",
      "16\tIron Man\t voters:708,021\n",
      "17\tUp\t voters:681,865\n",
      "18\tSlumdog Millionaire\t voters:649,767\n",
      "19\tThe Hobbit: An Unexpected Journey\t voters:648,272\n",
      "20\tNo Country for Old Men\t voters:629,158\n",
      "21\t300\t voters:617,439\n",
      "22\tStar Wars: The Force Awakens\t voters:595,345\n",
      "23\tThe Hangover\t voters:591,952\n",
      "24\tGravity\t voters:590,779\n",
      "25\tGone Girl\t voters:590,196\n",
      "26\tMad Max: Fury Road\t voters:577,243\n",
      "27\tGran Torino\t voters:570,455\n",
      "28\tIron Man 3\t voters:567,520\n",
      "29\tBlack Swan\t voters:561,063\n",
      "30\tMan of Steel\t voters:560,710\n",
      "No common movie\n"
     ]
    }
   ],
   "source": [
    "from query import top30movies_rating_voting"
   ]
  },
  {
   "attachments": {},
   "cell_type": "markdown",
   "metadata": {},
   "source": [
    "# Rating-Voting Correlation"
   ]
  },
  {
   "cell_type": "code",
   "execution_count": 11,
   "metadata": {},
   "outputs": [
    {
     "data": {
      "image/png": "[encoded data removed]",
      "text/plain": [
       "<Figure size 432x288 with 1 Axes>"
      ]
     },
     "metadata": {},
     "output_type": "display_data"
    }
   ],
   "source": [
    "N = len(movies)\n",
    "x,y=[],[]\n",
    "xMax=0\n",
    "yMax=0\n",
    "\n",
    "for key, movie in movies.items():\n",
    "    try:\n",
    "        y1 = int(movie[\"imdbVotes\"].replace(\",\",\"\"))\n",
    "        x1 = float(movie[\"imdbRating\"])\n",
    "        x.append(x1)\n",
    "        y.append(y1)\n",
    "        if x1>xMax:\n",
    "            xMax = x1\n",
    "        if y1>yMax:\n",
    "            yMax = y1\n",
    "    except:\n",
    "        continue\n",
    "\n",
    "\n",
    "plt.scatter(x,y, alpha=0.3)\n",
    "plt.xlim(0,xMax+xMax*0.1)\n",
    "plt.ylim(0,yMax+yMax*0.02)\n",
    "plt.xlabel('Rating')\n",
    "plt.ylabel('# of Voters')\n",
    "plt.savefig('rating_voting_correlation.png')\n",
    "plt.show()"
   ]
  },
  {
   "cell_type": "markdown",
   "metadata": {},
   "source": [
    "For one thing, we can see that the relation of # of voters and rating.  #of voters are proportional to the ratings.  More voters always have a great rating.  It means more voters implies greater rating.  In reality reasoning, I think this is a chain effect, better rating implies more people to watch.  Then, if the audience think this is go, they will go giving a great rating. Then this will be a snow ball accumulate. But not all audience will give a great rating.  The minority will lower the rating but not affecting the rating significantly.\n",
    "\n",
    "Second, I think the distribution or variant of the rating is unstable on small amount of voters.  We can see that on the graph.  The rating of movie whose # of voters lower than 200,000 is distributed over 1 to 10.  It is because every voter contributes greater proportion of the rating.  Small size of voters may imply the movie is some rarely category, sub culture movie or those actually have a bad rating in previous history.\n",
    "\n",
    "In conclusion, I think if the # of voters more, then the rating will be more stable and more centralize to 5-8 (ratings).  Moreover, more # of voters also mean this movie is popular.  This always implies the movie is suitable for majority. \n"
   ]
  },
  {
   "attachments": {},
   "cell_type": "markdown",
   "metadata": {},
   "source": [
    "# Top-10 Collaborative Actors"
   ]
  },
  {
   "cell_type": "code",
   "execution_count": 12,
   "metadata": {},
   "outputs": [
    {
     "name": "stdout",
     "output_type": "stream",
     "text": [
      "Brahmanandam, 415\n",
      "Prakash Raj, 242\n",
      "Eric Roberts, 234\n",
      "Ali, 233\n",
      "Mihir Das, 224\n",
      "Michael Madsen, 195\n",
      "Mohanlal, 177\n",
      "Ravi Kishan, 173\n",
      "Mammootty, 171\n",
      "Danny Trejo, 162\n"
     ]
    }
   ],
   "source": [
    "from query import top10actors"
   ]
  }
 ],
 "metadata": {
  "kernelspec": {
   "display_name": "Python 3",
   "language": "python",
   "name": "python3"
  },
  "language_info": {
   "codemirror_mode": {
    "name": "ipython",
    "version": 3
   },
   "file_extension": ".py",
   "mimetype": "text/x-python",
   "name": "python",
   "nbconvert_exporter": "python",
   "pygments_lexer": "ipython3",
   "version": "3.6.7"
  }
 },
 "nbformat": 4,
 "nbformat_minor": 2
}
